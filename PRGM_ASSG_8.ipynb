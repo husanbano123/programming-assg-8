{
 "cells": [
  {
   "cell_type": "code",
   "execution_count": 1,
   "id": "89c23f9d",
   "metadata": {},
   "outputs": [
    {
     "name": "stdout",
     "output_type": "stream",
     "text": [
      "Object `Matrices` not found.\n",
      "Object `Matrices` not found.\n",
      "Object `Matrix` not found.\n",
      "Object `Order` not found.\n",
      "Object `String` not found.\n"
     ]
    }
   ],
   "source": [
    "1.\tWrite a Python Program to Add Two Matrices?\n",
    "2.\tWrite a Python Program to Multiply Two Matrices?\n",
    "3.\tWrite a Python Program to Transpose a Matrix?\n",
    "4.\tWrite a Python Program to Sort Words in Alphabetic Order?\n",
    "5.\tWrite a PythonProgram to Re move Punctuation From a String?\n"
   ]
  },
  {
   "cell_type": "code",
   "execution_count": 8,
   "id": "faa9b9e6",
   "metadata": {},
   "outputs": [
    {
     "name": "stdout",
     "output_type": "stream",
     "text": [
      "[17, 15, 4]\n",
      "[10, 12, 9]\n",
      "[11, 13, 18]\n"
     ]
    }
   ],
   "source": [
    "# Program to add two matrices using nested loop\n",
    "\n",
    "x = [[12,7,3],\n",
    "    [4 ,5,6],\n",
    "    [7 ,8,9]]\n",
    "\n",
    "y= [[5,8,1],\n",
    "    [6,7,3],\n",
    "    [4,5,9]]\n",
    "\n",
    "result=[[x[i][j]+y[i][j]  for j in range(len(x[0]))] for i in range(len(x))]\n",
    "for r in result:\n",
    "    print(r)"
   ]
  },
  {
   "cell_type": "code",
   "execution_count": 58,
   "id": "22b7d462",
   "metadata": {},
   "outputs": [
    {
     "name": "stdout",
     "output_type": "stream",
     "text": [
      "husnaShamlik\n",
      "None\n"
     ]
    }
   ],
   "source": [
    "#Program to Re move Punctuation From a String?\n",
    "def remove_punct(s):\n",
    "    \n",
    "    punct='!@#$%&{}|&*()\"\"<>?/^'\n",
    "   \n",
    "    for i in s:\n",
    "        if i in punct:\n",
    "             s=s.replace(i, \"\")\n",
    "    print(s)\n",
    "    \n",
    "string=\"$#%husna@Shamlik\"\n",
    "print(remove_punct(string))\n",
    "    "
   ]
  },
  {
   "cell_type": "code",
   "execution_count": 36,
   "id": "0ce9fb5b",
   "metadata": {},
   "outputs": [
    {
     "name": "stdout",
     "output_type": "stream",
     "text": [
      "Shamlik\n"
     ]
    }
   ],
   "source": [
    "punct='%^&*()#$@!<>?|\\/;'\n",
    "name=\"Sham%^&lik#@!\"\n",
    "no_punc=\"\"\n",
    "for i in name:\n",
    "     if i not in punct:\n",
    "        no_punc=no_punc+i\n",
    "print(no_punc)"
   ]
  },
  {
   "cell_type": "code",
   "execution_count": 51,
   "id": "b2406db4",
   "metadata": {},
   "outputs": [
    {
     "name": "stdout",
     "output_type": "stream",
     "text": [
      "[25, 31, 34]\n",
      "[58, 79, 91]\n",
      "[91, 127, 148]\n"
     ]
    }
   ],
   "source": [
    "#Write a Python Program to Multiply Two Matrices?\n",
    "x=[[1,2,3],\n",
    "   [4,5,6],\n",
    "   [7,8,9]]\n",
    "y=[[2,8,10],\n",
    "   [4,1,3],\n",
    "   [5,7,6]]\n",
    "result=[[0,0,0],\n",
    "       [0,0,0],\n",
    "       [0,0,0]]\n",
    "for i in range(len(x)):\n",
    "    for j in range(len(x[0])):\n",
    "        for k in range(len(y)):\n",
    "            result[i][j] +=x[i][k]*y[k][j]\n",
    "for r in result:\n",
    "    print(r)"
   ]
  },
  {
   "cell_type": "code",
   "execution_count": 52,
   "id": "3278fdb2",
   "metadata": {},
   "outputs": [
    {
     "name": "stdout",
     "output_type": "stream",
     "text": [
      "[1, 4, 7]\n",
      "[2, 5, 8]\n",
      "[3, 6, 9]\n"
     ]
    }
   ],
   "source": [
    "#Write a Python Program to Transpose a Matrix?\n",
    "x=[[1,2,3],\n",
    "  [4,5,6],\n",
    "  [7,8,9]]\n",
    "result=[[x[j][i] for j in range(len(x[0]))] for i in range(len(x)) ]\n",
    "for  r in result:\n",
    "    print(r)\n"
   ]
  },
  {
   "cell_type": "code",
   "execution_count": 55,
   "id": "e8b3da04",
   "metadata": {},
   "outputs": [
    {
     "name": "stdout",
     "output_type": "stream",
     "text": [
      "8\n",
      "assg\n",
      "coding\n",
      "is\n",
      "my\n",
      "of\n",
      "strong\n",
      "this\n"
     ]
    }
   ],
   "source": [
    "#Write a Python Program to Sort Words in Alphabetic Order?\n",
    "my_str=\" this is my assg 8 of strong coding\"\n",
    "\n",
    "s=[word.lower() for word in my_str.split()]\n",
    "s.sort()\n",
    "\n",
    "for i in s:\n",
    "    print(i)\n"
   ]
  },
  {
   "cell_type": "code",
   "execution_count": null,
   "id": "d5bc8ccf",
   "metadata": {},
   "outputs": [],
   "source": []
  }
 ],
 "metadata": {
  "kernelspec": {
   "display_name": "Python 3 (ipykernel)",
   "language": "python",
   "name": "python3"
  },
  "language_info": {
   "codemirror_mode": {
    "name": "ipython",
    "version": 3
   },
   "file_extension": ".py",
   "mimetype": "text/x-python",
   "name": "python",
   "nbconvert_exporter": "python",
   "pygments_lexer": "ipython3",
   "version": "3.9.7"
  }
 },
 "nbformat": 4,
 "nbformat_minor": 5
}
